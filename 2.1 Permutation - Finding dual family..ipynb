{
 "cells": [
  {
   "cell_type": "code",
   "execution_count": 3,
   "id": "cd1b9cf4",
   "metadata": {},
   "outputs": [],
   "source": [
    "%matplotlib inline\n",
    "import matplotlib.pyplot as plt\n",
    "import networkx as nx\n",
    "import numpy as np\n",
    "import cdd\n",
    "from modulus_tools import demo_graphs\n",
    "from modulus_tools import algorithms as alg\n",
    "from itertools import product"
   ]
  },
  {
   "cell_type": "code",
   "execution_count": 8,
   "id": "074f6516",
   "metadata": {},
   "outputs": [],
   "source": [
    "######################################################################\n",
    "# import necessary libraries\n",
    "\n",
    "%matplotlib inline\n",
    "import matplotlib.pyplot as plt\n",
    "import networkx as nx\n",
    "import numpy as np\n",
    "import cvxpy as cvx\n",
    "#from cvxpy.solvers import qp\n",
    "from fractions import Fraction\n",
    "import math"
   ]
  },
  {
   "cell_type": "code",
   "execution_count": 10,
   "id": "b12891a0",
   "metadata": {},
   "outputs": [],
   "source": [
    "G= nx.Graph()\n",
    "nx.add_path(G,(0,1,2,3,0,2))\n",
    "pos = nx.spring_layout(G)"
   ]
  },
  {
   "cell_type": "code",
   "execution_count": 11,
   "id": "cf1fd358",
   "metadata": {},
   "outputs": [],
   "source": [
    "from itertools import combinations\n",
    "def sub_lists(my_list):\n",
    "\tsubs = []\n",
    "\tfor i in range(0, len(my_list)+1):\n",
    "\t    temp = [list(x) for x in combinations(my_list, i)]\n",
    "\t    if len(temp)>0:\n",
    "\t        subs.extend(temp)\n",
    "\treturn subs\n",
    "def good_sub_lists(my_list):\n",
    "    B= []\n",
    "    for l in sub_lists(my_list):\n",
    "        \n",
    "        if len(l)<= 1:\n",
    "            B.append(l)\n",
    "        else:\n",
    "            passed = True\n",
    "            for i in range(0,len(l)-1):\n",
    "                if l[i]>=l[i+1]:\n",
    "                    passed = False\n",
    "            if  passed:\n",
    "                B.append(l)\n",
    "    return B\n",
    "def MISS(l): \n",
    "    miss = []\n",
    "    for t  in  good_sub_lists(l):\n",
    "        passed= True\n",
    "        for s in  good_sub_lists(l):\n",
    "            if all(x in s for x in t) == True:\n",
    "                if all(x in t for x in s)== False:\n",
    "                    passed = False\n",
    "        if passed:\n",
    "            miss.append(t)\n",
    "    return miss\n",
    "def MISSR(l):\n",
    "    rows = []\n",
    "    for s in MISS(l):\n",
    "        row = len(l)*[0]\n",
    "        for i in range(len(l)):\n",
    "            if l[i] in s:\n",
    "                row[i]=1        \n",
    "        rows.append(row)\n",
    "    return rows\n",
    "def MISSI(l,s):\n",
    "    row = []\n",
    "    for i in range(len(l)):\n",
    "        if l[i] in s:                 \n",
    "            row.append(i+1)\n",
    "    return row"
   ]
  },
  {
   "cell_type": "code",
   "execution_count": 12,
   "id": "fb09ed24",
   "metadata": {},
   "outputs": [],
   "source": [
    "\n",
    "def dual(l):\n",
    "    m = len(l)\n",
    "    misss =  MISSR(l)\n",
    "    # initialize an empty list of rows for the augmented matrix\n",
    "    rows = []\n",
    "    # add rows corresponding to the constraints rho >= 0\n",
    "    for i in range(1,len(l)+1):\n",
    "        row = (m+1)*[0]\n",
    "        row[i] = 1\n",
    "        rows.append(row)   \n",
    "    # add rows corresponding to the constraints N*rho >= 1\n",
    "    for miss in misss:\n",
    "        row = [-1] + miss\n",
    "        rows.append(row)   \n",
    "    # create the polyhedron in cdd\n",
    "    mat = cdd.Matrix(rows, number_type='fraction')\n",
    "    mat.rep_type = cdd.RepType.INEQUALITY\n",
    "    poly = cdd.Polyhedron(mat)\n",
    "    ext = poly.get_generators()\n",
    "    # list of dual objects\n",
    "    dual = []\n",
    "    # loop over extreme points and directions\n",
    "    for i in range(ext.row_size):\n",
    "    \n",
    "        # skip extreme directions\n",
    "        if ext[i][0] == 0:\n",
    "            continue\n",
    "        \n",
    "        # add the vector representation of the dual object\n",
    "        dual.append(ext[i][1:])\n",
    "    return dual\n"
   ]
  },
  {
   "cell_type": "code",
   "execution_count": 13,
   "id": "989c9a9d",
   "metadata": {},
   "outputs": [],
   "source": [
    "# Efficient Python 3 Program to find\n",
    "# inverse permutation.\n",
    " \n",
    "# function to find inverse permutations\n",
    "def inversePermutation(arr) :\n",
    "    l = len(arr)\n",
    "    # To store element to index mappings\n",
    "    arr2 = [0] *l\n",
    "     \n",
    "    # Inserting position at their\n",
    "    # respective element in second array\n",
    "    for i in range(0,l) :\n",
    "        arr2[arr[i] - 1] = i + 1\n",
    "     \n",
    "    return arr2"
   ]
  },
  {
   "cell_type": "code",
   "execution_count": 17,
   "id": "ce8fb61d",
   "metadata": {},
   "outputs": [],
   "source": [
    "def PG(l):\n",
    "    G = nx.Graph()\n",
    "    for i in range(len(l)):\n",
    "        for j in range(len(l)):\n",
    "            if i < j:\n",
    "                if l[i]>l[j]:\n",
    "                    G.add_edge(i,j)\n",
    "    pos = nx.circular_layout(G)\n",
    "    labels = {u:(u+1)  for u in G.nodes}\n",
    "    nx.draw(G, pos, node_size=200, node_color='gray', edge_color='gray')\n",
    "    nx.draw_networkx_labels(G, pos,labels=labels, font_size=12)"
   ]
  },
  {
   "cell_type": "code",
   "execution_count": 18,
   "id": "55ac6eca",
   "metadata": {},
   "outputs": [
    {
     "data": {
      "text/plain": [
       "[(1, 2, 3), (1, 3, 2), (2, 1, 3), (2, 3, 1), (3, 1, 2), (3, 2, 1)]"
      ]
     },
     "execution_count": 18,
     "metadata": {},
     "output_type": "execute_result"
    }
   ],
   "source": [
    "import itertools\n",
    "list(itertools.permutations(range(1,4)))\n",
    "   "
   ]
  },
  {
   "cell_type": "code",
   "execution_count": null,
   "id": "52631327",
   "metadata": {},
   "outputs": [],
   "source": []
  },
  {
   "cell_type": "code",
   "execution_count": 19,
   "id": "5e3156da",
   "metadata": {},
   "outputs": [],
   "source": [
    "from itertools import combinations\n",
    "def dsub_lists(my_list):\n",
    "\tsubs = []\n",
    "\tfor i in range(0, len(my_list)+1):\n",
    "\t    temp = [list(x) for x in combinations(my_list, i)]\n",
    "\t    if len(temp)>0:\n",
    "\t        subs.extend(temp)\n",
    "\treturn subs\n",
    "def dgood_sub_lists(my_list):\n",
    "    B= []\n",
    "    for l in dsub_lists(my_list):\n",
    "        \n",
    "        if len(l)<= 1:\n",
    "            B.append(l)\n",
    "        else:\n",
    "            passed = True\n",
    "            for i in range(0,len(l)-1):\n",
    "                if l[i]<=l[i+1]:\n",
    "                    passed = False\n",
    "            if  passed:\n",
    "                B.append(l)\n",
    "    return B\n",
    "def dMISS(l): \n",
    "    miss = []\n",
    "    for t  in  dgood_sub_lists(l):\n",
    "        passed= True\n",
    "        for s in  dgood_sub_lists(l):\n",
    "            if all(x in s for x in t) == True:\n",
    "                if all(x in t for x in s)== False:\n",
    "                    passed = False\n",
    "        if passed:\n",
    "            miss.append(t)\n",
    "    return miss\n",
    "def dMISSR(l):\n",
    "    rows = []\n",
    "    for s in dMISS(l):\n",
    "        row = len(l)*[0]\n",
    "        for i in range(len(l)):\n",
    "            if l[i] in s:\n",
    "                row[i]=1        \n",
    "        rows.append(row)\n",
    "    return rows\n",
    "def dMISSI(l,s):\n",
    "    row = []\n",
    "    for i in range(len(l)):\n",
    "        if l[i] in s:                 \n",
    "            row.append(i+1)\n",
    "    return row"
   ]
  },
  {
   "cell_type": "code",
   "execution_count": 10,
   "id": "3da2dcb3",
   "metadata": {},
   "outputs": [],
   "source": [
    "def ddual(l):\n",
    "    m = len(l)\n",
    "    misss =  dMISSR(l)\n",
    "    # initialize an empty list of rows for the augmented matrix\n",
    "    rows = []\n",
    "    # add rows corresponding to the constraints rho >= 0\n",
    "    for i in range(1,len(l)+1):\n",
    "        row = (m+1)*[0]\n",
    "        row[i] = 1\n",
    "        rows.append(row)   \n",
    "    # add rows corresponding to the constraints N*rho >= 1\n",
    "    for miss in misss:\n",
    "        row = [-1] + miss\n",
    "        rows.append(row)   \n",
    "    # create the polyhedron in cdd\n",
    "    mat = cdd.Matrix(rows, number_type='fraction')\n",
    "    mat.rep_type = cdd.RepType.INEQUALITY\n",
    "    poly = cdd.Polyhedron(mat)\n",
    "    ext = poly.get_generators()\n",
    "    # list of dual objects\n",
    "    dual = []\n",
    "    # loop over extreme points and directions\n",
    "    for i in range(ext.row_size):\n",
    "    \n",
    "        # skip extreme directions\n",
    "        if ext[i][0] == 0:\n",
    "            continue\n",
    "        \n",
    "        # add the vector representation of the dual object\n",
    "        dual.append(ext[i][1:])\n",
    "    return dual\n"
   ]
  },
  {
   "cell_type": "code",
   "execution_count": 11,
   "id": "97ec03e5",
   "metadata": {},
   "outputs": [
    {
     "name": "stdout",
     "output_type": "stream",
     "text": [
      "Subset test not passed\n"
     ]
    }
   ],
   "source": [
    "np.random.seed(54667)\n",
    "l =   np.random.permutation(range(1,7))\n",
    "good = True\n",
    "for j in list(ddual(l)):\n",
    "    passed = False\n",
    "    for k in list(MISSR(l)):\n",
    "        passed = np.linalg.norm(np.array(j)- np.array(k)) < 1e-8 or passed\n",
    "    if not passed:\n",
    "         good = False\n",
    "if good:\n",
    "    print('Subset test passed')\n",
    "else:\n",
    "    print('Subset test not passed') "
   ]
  },
  {
   "cell_type": "code",
   "execution_count": null,
   "id": "db5e1dc1",
   "metadata": {},
   "outputs": [],
   "source": [
    "#np.random.seed(2)\n",
    "l =   np.random.permutation(range(1,17))\n",
    "good = True\n",
    "for j in list(ddual(l)):\n",
    "    passed = False\n",
    "    for k in list(MISSR(l)):\n",
    "        passed = np.linalg.norm(np.array(j)- np.array(k)) < 1e-8 or passed\n",
    "    if not passed:\n",
    "         good = False\n",
    "if good:\n",
    "    print('Subset test passed')\n",
    "else:\n",
    "    print('Subset test not passed') \n",
    "#k = inversePermutation(l)\n",
    "print(l)\n",
    "#print(k)\n",
    "print('c')\n",
    "print(MISS(l))\n",
    "#print(MISS(k))\n",
    "print('c')\n",
    "print(MISSR(l))\n",
    "#print(MISSR(k))\n",
    "print('c')\n",
    "print(dual(l))\n",
    "#print(dual(k))"
   ]
  },
  {
   "cell_type": "code",
   "execution_count": 13,
   "id": "018dba10",
   "metadata": {},
   "outputs": [
    {
     "name": "stdout",
     "output_type": "stream",
     "text": [
      "[4 2 6 5 3 1]\n",
      "c\n",
      "[[4, 2, 1], [4, 3, 1], [6, 5, 3, 1]]\n",
      "c\n",
      "[[1, 1, 0, 0, 0, 1], [1, 0, 0, 0, 1, 1], [0, 0, 1, 1, 1, 1]]\n",
      "c\n",
      "[(0, 0, 0, 0, 0, 1), (0, 1, 0, 0, 1, 0), (1, 0, 0, 0, 1, 0), (1, 0, 1, 0, 0, 0), (1, 0, 0, 1, 0, 0)]\n"
     ]
    }
   ],
   "source": [
    "#k = inversePermutation(l)\n",
    "print(l)\n",
    "#print(k)\n",
    "print('c')\n",
    "print(dMISS(l))\n",
    "#print(MISS(k))\n",
    "print('c')\n",
    "print(dMISSR(l))\n",
    "#print(MISSR(k))\n",
    "print('c')\n",
    "print(ddual(l))\n",
    "#print(dual(k))"
   ]
  },
  {
   "cell_type": "code",
   "execution_count": 14,
   "id": "6098eacb",
   "metadata": {},
   "outputs": [
    {
     "name": "stdout",
     "output_type": "stream",
     "text": [
      "Subset test not passed\n",
      "Equality test passed\n"
     ]
    }
   ],
   "source": [
    "\n",
    "good = True\n",
    "for j in list(ddual(l)):\n",
    "    passed = False\n",
    "    for k in list(MISSR(l)):\n",
    "        passed = np.linalg.norm(np.array(j)- np.array(k)) < 1e-8 or passed\n",
    "    if not passed:\n",
    "         good = False\n",
    "if good:\n",
    "    print('Subset test passed')\n",
    "else:\n",
    "    print('Subset test not passed')\n",
    "if len(dual(l)) == len(dMISSR(l)):\n",
    "    print('Equality test passed')\n",
    "else:\n",
    "    print('Equality test not passed')"
   ]
  },
  {
   "cell_type": "code",
   "execution_count": 15,
   "id": "70dc6c60",
   "metadata": {},
   "outputs": [
    {
     "name": "stdout",
     "output_type": "stream",
     "text": [
      "\n",
      "\n"
     ]
    }
   ],
   "source": [
    "import itertools\n",
    "from permutation import Permutation\n",
    "for l in list(itertools.permutations(range(1,2))):\n",
    "    \n",
    "    good = True\n",
    "    for j in list(dual(l)):\n",
    "        passed = False\n",
    "        for k in list(dMISSR(l)):\n",
    "            passed = np.linalg.norm(np.array(j)- np.array(k)) < 1e-8 or passed\n",
    "        if not passed:\n",
    "             good = False\n",
    "    if good:\n",
    "        print()\n",
    "    else:\n",
    "        print('Subset test not passed')\n",
    "        print(l)\n",
    "        print(MISS(l))\n",
    "        print(MISSR(l))\n",
    "        print('dual')\n",
    "        print(dual(l))\n",
    "        print('dcrease')\n",
    "        print(dMISSR(l))\n",
    "    good = True\n",
    "    for j in list(dMISSR(l)):\n",
    "        passed = False\n",
    "        for k in list(dual(l)):\n",
    "            passed = np.linalg.norm(np.array(j)- np.array(k)) < 1e-8 or passed\n",
    "        if not passed:\n",
    "             good = False\n",
    "    if good:\n",
    "        print()\n",
    "    else:\n",
    "        print('Subset test 2 not passed')"
   ]
  },
  {
   "cell_type": "code",
   "execution_count": 16,
   "id": "0b0920ee",
   "metadata": {},
   "outputs": [
    {
     "name": "stdout",
     "output_type": "stream",
     "text": [
      "[3, 1, 4, 2]\n",
      "[[3, 4], [1, 4], [1, 2]]\n",
      "[[1, 0, 1, 0], [0, 1, 1, 0], [0, 1, 0, 1]]\n",
      "dual\n",
      "[(0, 0, 1, 1), (0, 1, 1, 0), (1, 1, 0, 0)]\n",
      "dcrease\n",
      "[[1, 1, 0, 0], [1, 0, 0, 1], [0, 0, 1, 1]]\n"
     ]
    },
    {
     "data": {
      "image/png": "[encoded data removed]",
      "text/plain": [
       "<Figure size 504x504 with 1 Axes>"
      ]
     },
     "metadata": {
      "needs_background": "light"
     },
     "output_type": "display_data"
    },
    {
     "data": {
      "image/png": "[encoded data removed]",
      "text/plain": [
       "<Figure size 504x504 with 1 Axes>"
      ]
     },
     "metadata": {
      "needs_background": "light"
     },
     "output_type": "display_data"
    }
   ],
   "source": [
    "l = [ 3, 1, 4, 2]\n",
    "print(l)\n",
    "print(MISS(l))\n",
    "print(MISSR(l))\n",
    "print('dual')\n",
    "print(dual(l))\n",
    "print('dcrease')\n",
    "print(dMISSR(l))\n",
    "x = range(1,len(l)+1)\n",
    "fig, ax = plt.subplots(1,1,figsize=(7, 7))\n",
    "for ga in MISS(l):\n",
    "    I = MISSI(l,ga)\n",
    "    # initialize figure \n",
    "    plt.scatter(x,l)\n",
    "    plt.plot(I,ga)\n",
    "\n",
    "# Set the ticks to be at the edges of the bins.\n",
    "ax.set_xticks(range(1,len(l)+1))\n",
    "ax.set_yticks(range(1,len(l)+1))\n",
    "plt.grid(True)\n",
    "\n",
    "None\n",
    "\n",
    "fig, ax = plt.subplots(figsize=(7, 7))\n",
    "plt.scatter(x,l)\n",
    "for du in dual(l):\n",
    "    ga =[]\n",
    "    I  =[]\n",
    "    for i in range(len(l)):\n",
    "        if du[i] == 1:\n",
    "            ga.append(i+1) \n",
    "            I.append(l[i])\n",
    "    # initialize figure \n",
    "    \n",
    "    plt.plot(ga,I)\n",
    "\n",
    "# Set the ticks to be at the edges of the bins.\n",
    "ax.set_xticks(range(1,len(l)+1))\n",
    "ax.set_yticks(range(1,len(l)+1))\n",
    "plt.grid(True)\n",
    "\n",
    "None"
   ]
  },
  {
   "cell_type": "code",
   "execution_count": null,
   "id": "5518bab2",
   "metadata": {},
   "outputs": [],
   "source": []
  },
  {
   "cell_type": "code",
   "execution_count": 17,
   "id": "c7341c47",
   "metadata": {},
   "outputs": [
    {
     "name": "stdout",
     "output_type": "stream",
     "text": [
      "[ 6  1 10 13  3 12  9  8  2 11  5  4  7]\n",
      "[[6, 7], [6, 10, 13], [6, 10, 12], [6, 10, 11], [6, 9, 11], [6, 8, 11], [1, 10, 13], [1, 10, 12], [1, 10, 11], [1, 3, 12], [1, 2, 11], [1, 3, 9, 11], [1, 3, 8, 11], [1, 3, 5, 7], [1, 3, 4, 7], [1, 2, 5, 7], [1, 2, 4, 7]]\n",
      "[[1, 0, 0, 0, 0, 0, 0, 0, 0, 0, 0, 0, 1], [1, 0, 1, 1, 0, 0, 0, 0, 0, 0, 0, 0, 0], [1, 0, 1, 0, 0, 1, 0, 0, 0, 0, 0, 0, 0], [1, 0, 1, 0, 0, 0, 0, 0, 0, 1, 0, 0, 0], [1, 0, 0, 0, 0, 0, 1, 0, 0, 1, 0, 0, 0], [1, 0, 0, 0, 0, 0, 0, 1, 0, 1, 0, 0, 0], [0, 1, 1, 1, 0, 0, 0, 0, 0, 0, 0, 0, 0], [0, 1, 1, 0, 0, 1, 0, 0, 0, 0, 0, 0, 0], [0, 1, 1, 0, 0, 0, 0, 0, 0, 1, 0, 0, 0], [0, 1, 0, 0, 1, 1, 0, 0, 0, 0, 0, 0, 0], [0, 1, 0, 0, 0, 0, 0, 0, 1, 1, 0, 0, 0], [0, 1, 0, 0, 1, 0, 1, 0, 0, 1, 0, 0, 0], [0, 1, 0, 0, 1, 0, 0, 1, 0, 1, 0, 0, 0], [0, 1, 0, 0, 1, 0, 0, 0, 0, 0, 1, 0, 1], [0, 1, 0, 0, 1, 0, 0, 0, 0, 0, 0, 1, 1], [0, 1, 0, 0, 0, 0, 0, 0, 1, 0, 1, 0, 1], [0, 1, 0, 0, 0, 0, 0, 0, 1, 0, 0, 1, 1]]\n",
      "dual\n",
      "[(0, 0, 0, 1, 0, 1, 0, 0, 0, 1, 0, 0, 1), (0, 0, 1, 0, 0, 1, 0, 0, 0, 1, 0, 0, 1), (0, 0, 1, 0, 1, 0, 1, 1, 1, 0, 0, 0, 1), (0, 0, 1, 0, 1, 0, 0, 0, 0, 1, 0, 0, 1), (0, 0, 1, 0, 0, 1, 1, 1, 1, 0, 0, 0, 1), (0, 1, 1, 0, 0, 0, 1, 1, 0, 0, 0, 0, 1), (0, 1, 1, 0, 0, 0, 0, 0, 0, 1, 0, 0, 1), (1, 0, 1, 0, 0, 1, 1, 1, 1, 0, 1, 1, 0), (1, 0, 1, 0, 1, 0, 0, 0, 0, 1, 1, 1, 0), (1, 0, 1, 0, 1, 0, 0, 0, 1, 0, 0, 0, 0), (1, 0, 1, 0, 0, 1, 0, 0, 0, 1, 1, 1, 0), (1, 0, 0, 1, 1, 1, 0, 0, 1, 1, 0, 0, 0), (1, 0, 0, 1, 0, 1, 0, 0, 0, 1, 1, 1, 0), (1, 1, 0, 0, 0, 0, 0, 0, 0, 0, 0, 0, 0)]\n"
     ]
    }
   ],
   "source": [
    "l =   np.random.permutation(range(1,14))\n",
    "print(l)\n",
    "print(MISS(l))\n",
    "print(MISSR(l))\n",
    "print('dual')\n",
    "print(dual(l))"
   ]
  },
  {
   "cell_type": "code",
   "execution_count": null,
   "id": "3c5ddba2",
   "metadata": {},
   "outputs": [],
   "source": []
  },
  {
   "cell_type": "code",
   "execution_count": null,
   "id": "94998555",
   "metadata": {},
   "outputs": [],
   "source": []
  },
  {
   "cell_type": "code",
   "execution_count": null,
   "id": "8a925a96",
   "metadata": {},
   "outputs": [],
   "source": []
  },
  {
   "cell_type": "code",
   "execution_count": null,
   "id": "d3a99084",
   "metadata": {},
   "outputs": [],
   "source": []
  }
 ],
 "metadata": {
  "kernelspec": {
   "display_name": "Python 3 (ipykernel)",
   "language": "python",
   "name": "python3"
  },
  "language_info": {
   "codemirror_mode": {
    "name": "ipython",
    "version": 3
   },
   "file_extension": ".py",
   "mimetype": "text/x-python",
   "name": "python",
   "nbconvert_exporter": "python",
   "pygments_lexer": "ipython3",
   "version": "3.11.7"
  }
 },
 "nbformat": 4,
 "nbformat_minor": 5
}

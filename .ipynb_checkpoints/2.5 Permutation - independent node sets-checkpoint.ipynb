{
 "cells": [
  {
   "cell_type": "code",
   "execution_count": 1,
   "id": "cd1b9cf4",
   "metadata": {},
   "outputs": [],
   "source": [
    "%matplotlib inline\n",
    "import matplotlib.pyplot as plt\n",
    "import networkx as nx\n",
    "import numpy as np\n",
    "import cdd\n",
    "from modulus_tools import demo_graphs\n",
    "from modulus_tools import algorithms as alg\n",
    "from itertools import product"
   ]
  },
  {
   "cell_type": "code",
   "execution_count": 2,
   "id": "074f6516",
   "metadata": {},
   "outputs": [],
   "source": [
    "######################################################################\n",
    "# import necessary libraries\n",
    "\n",
    "%matplotlib inline\n",
    "import matplotlib.pyplot as plt\n",
    "import networkx as nx\n",
    "import numpy as np\n",
    "import cvxopt as cvx\n",
    "from cvxopt.solvers import qp\n",
    "from fractions import Fraction\n",
    "import math"
   ]
  },
  {
   "cell_type": "code",
   "execution_count": 3,
   "id": "b12891a0",
   "metadata": {},
   "outputs": [],
   "source": [
    "G= nx.Graph()\n",
    "nx.add_path(G,(0,1,2,3,0,2))\n",
    "pos = nx.spring_layout(G)"
   ]
  },
  {
   "cell_type": "code",
   "execution_count": 4,
   "id": "cf1fd358",
   "metadata": {},
   "outputs": [],
   "source": [
    "from itertools import combinations\n",
    "def sub_lists(G):\n",
    "\tsubs = []\n",
    "\tfor i in range(0, len(G.nodes())+1):\n",
    "\t    temp = [list(x) for x in combinations(G.nodes(), i)]\n",
    "\t    if len(temp)>0:\n",
    "\t        subs.extend(temp)\n",
    "\treturn subs\n",
    "def good_sub_lists(G):\n",
    "    B= []\n",
    "    for l in sub_lists(G):\n",
    "        \n",
    "        if len(l)<= 1:\n",
    "            B.append(l)\n",
    "        else:\n",
    "            passed = True\n",
    "            for i in l:\n",
    "                for j in l:\n",
    "                    if (i,j) in G.edges():\n",
    "                        passed = False\n",
    "            if  passed:\n",
    "                B.append(l)\n",
    "    return B\n",
    "def MISS(G): \n",
    "    miss = []\n",
    "    for t  in  good_sub_lists(G):\n",
    "        passed= True\n",
    "        for s in  good_sub_lists(G):\n",
    "            if all(x in s for x in t) == True:\n",
    "                if all(x in t for x in s)== False:\n",
    "                    passed = False\n",
    "        if passed:\n",
    "            miss.append(t)\n",
    "    return miss\n",
    "def MISSR(G):\n",
    "    rows = []\n",
    "    for s in MISS(G):\n",
    "        row = len(G.nodes())*[0]\n",
    "        for i in range(len(G.nodes())):\n",
    "            if i in s:\n",
    "                row[i]=1        \n",
    "        rows.append(row)\n",
    "    return rows"
   ]
  },
  {
   "cell_type": "code",
   "execution_count": 5,
   "id": "fb09ed24",
   "metadata": {},
   "outputs": [],
   "source": [
    "\n",
    "def dual(G):\n",
    "    m = len(G.nodes())\n",
    "    misss =  MISSR(G)\n",
    "    # initialize an empty list of rows for the augmented matrix\n",
    "    rows = []\n",
    "    # add rows corresponding to the constraints rho >= 0\n",
    "    for i in range(1,m+1):\n",
    "        row = (m+1)*[0]\n",
    "        row[i] = 1\n",
    "        rows.append(row)   \n",
    "    # add rows corresponding to the constraints N*rho >= 1\n",
    "    for miss in misss:\n",
    "        row = [-1] + miss\n",
    "        rows.append(row)   \n",
    "    # create the polyhedron in cdd\n",
    "    mat = cdd.Matrix(rows, number_type='fraction')\n",
    "    mat.rep_type = cdd.RepType.INEQUALITY\n",
    "    poly = cdd.Polyhedron(mat)\n",
    "    ext = poly.get_generators()\n",
    "    # list of dual objects\n",
    "    dual = []\n",
    "    # loop over extreme points and directions\n",
    "    for i in range(ext.row_size):\n",
    "    \n",
    "        # skip extreme directions\n",
    "        if ext[i][0] == 0:\n",
    "            continue\n",
    "        \n",
    "        # add the vector representation of the dual object\n",
    "        dual.append(ext[i][1:])\n",
    "    return dual\n"
   ]
  },
  {
   "cell_type": "code",
   "execution_count": 6,
   "id": "989c9a9d",
   "metadata": {},
   "outputs": [],
   "source": [
    "# Efficient Python 3 Program to find\n",
    "# inverse permutation.\n",
    " \n",
    "# function to find inverse permutations\n",
    "def inversePermutation(arr) :\n",
    "    l = len(arr)\n",
    "    # To store element to index mappings\n",
    "    arr2 = [0] *l\n",
    "     \n",
    "    # Inserting position at their\n",
    "    # respective element in second array\n",
    "    for i in range(0,l) :\n",
    "        arr2[arr[i] - 1] = i + 1\n",
    "     \n",
    "    return arr2"
   ]
  },
  {
   "cell_type": "code",
   "execution_count": 7,
   "id": "ce8fb61d",
   "metadata": {},
   "outputs": [],
   "source": [
    "def PG(l):\n",
    "    G = nx.Graph()\n",
    "    for i in range(len(l)):\n",
    "        for j in range(len(l)):\n",
    "            if i < j:\n",
    "                if l[i]>l[j]:\n",
    "                    G.add_edge(i,j)\n",
    "    pos = nx.circular_layout(G)\n",
    "    labels = {u:(u+1)  for u in G.nodes}\n",
    "    nx.draw(G, pos, node_size=200, node_color='gray', edge_color='gray')\n",
    "    nx.draw_networkx_labels(G, pos,labels=labels, font_size=12)"
   ]
  },
  {
   "cell_type": "code",
   "execution_count": 8,
   "id": "16ec6549",
   "metadata": {},
   "outputs": [
    {
     "name": "stdout",
     "output_type": "stream",
     "text": [
      "[0, 1, 2, 3]\n",
      "c\n",
      "[[0, 2], [0, 3], [1, 3]]\n",
      "[[1, 0, 1, 0], [1, 0, 0, 1], [0, 1, 0, 1]]\n",
      "[(0, 0, 1, 1), (1, 0, 0, 1), (1, 1, 0, 0)]\n"
     ]
    },
    {
     "data": {
      "image/png": "[encoded data removed]",
      "text/plain": [
       "<Figure size 432x288 with 1 Axes>"
      ]
     },
     "metadata": {},
     "output_type": "display_data"
    }
   ],
   "source": [
    "G= nx.Graph()\n",
    "nx.add_path(G,(0,1,2,3))\n",
    "G.add_node(2)\n",
    "pos = nx.spring_layout(G)\n",
    "nx.draw(G)\n",
    "print(G.nodes())\n",
    "print('c')\n",
    "print(MISS(G))\n",
    "print(MISSR(G))\n",
    "#print(MISS(k))\n",
    "print(dual(G))\n"
   ]
  },
  {
   "cell_type": "code",
   "execution_count": 10,
   "id": "19c48c4e",
   "metadata": {},
   "outputs": [
    {
     "name": "stdout",
     "output_type": "stream",
     "text": [
      "[(0, 0, 0, 0, 0, 0, 0, 0, 0, 1), (0, 0, 0, 0, 0, 1, 0, 1, 1, 0), (0, 0, 0, 1, 1, 1, 0, 1, 0, 0), (0, 0, 1, 1, 0, 0, 0, 1, 1, 0), (0, 0, 1, 1, 1, 0, 0, 1, 0, 0), (0, 0, 0, 1, 0, 0, 1, 1, 0, 0), (0, 0, 0, 0, 0, 1, 1, 1, 0, 0), (0, 0, 0, Fraction(1, 2), Fraction(1, 2), Fraction(1, 2), Fraction(1, 2), 1, 0, 0), (1, 1, 0, 0, 0, 0, 1, 0, 0, 0), (1, 1, 0, 0, 0, 1, 0, 0, 1, 0), (1, 1, 1, 1, 0, 0, 0, 0, 1, 0), (1, 0, 0, 0, 0, 0, 1, 1, 0, 0)]\n"
     ]
    },
    {
     "data": {
      "image/png": "[encoded data removed]",
      "text/plain": [
       "<Figure size 432x288 with 1 Axes>"
      ]
     },
     "metadata": {},
     "output_type": "display_data"
    }
   ],
   "source": [
    "# the demo graph\n",
    "import random as rnd\n",
    "seed= 123\n",
    "G = nx.gnp_random_graph(10,0.4,seed)\n",
    "pos = nx.spring_layout(G)\n",
    "labels = {u:(u)  for u in G.nodes}\n",
    "nx.draw(G, pos, node_size=200, node_color='gray', edge_color='gray')\n",
    "nx.draw_networkx_labels(G, pos,labels=labels, font_size=12)\n",
    "#print(MISS(k))\n",
    "print(dual(G))"
   ]
  },
  {
   "cell_type": "code",
   "execution_count": null,
   "id": "52631327",
   "metadata": {},
   "outputs": [],
   "source": []
  },
  {
   "cell_type": "code",
   "execution_count": null,
   "id": "5e3156da",
   "metadata": {},
   "outputs": [],
   "source": []
  },
  {
   "cell_type": "code",
   "execution_count": null,
   "id": "3da2dcb3",
   "metadata": {},
   "outputs": [],
   "source": []
  },
  {
   "cell_type": "code",
   "execution_count": null,
   "id": "97ec03e5",
   "metadata": {},
   "outputs": [],
   "source": []
  }
 ],
 "metadata": {
  "kernelspec": {
   "display_name": "Python 3 (ipykernel)",
   "language": "python",
   "name": "python3"
  },
  "language_info": {
   "codemirror_mode": {
    "name": "ipython",
    "version": 3
   },
   "file_extension": ".py",
   "mimetype": "text/x-python",
   "name": "python",
   "nbconvert_exporter": "python",
   "pygments_lexer": "ipython3",
   "version": "3.9.12"
  }
 },
 "nbformat": 4,
 "nbformat_minor": 5
}

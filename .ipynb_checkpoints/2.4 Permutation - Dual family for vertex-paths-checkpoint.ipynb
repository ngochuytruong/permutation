{
 "cells": [
  {
   "cell_type": "code",
   "execution_count": 2,
   "id": "9f933fff",
   "metadata": {},
   "outputs": [],
   "source": [
    "%matplotlib inline\n",
    "import matplotlib.pyplot as plt\n",
    "import networkx as nx\n",
    "import numpy as np\n",
    "import cdd\n",
    "from modulus_tools import demo_graphs\n",
    "from modulus_tools import algorithms as alg\n",
    "from itertools import product\n",
    "import minimum_degree as mg"
   ]
  },
  {
   "cell_type": "code",
   "execution_count": 3,
   "id": "b4fe05b3",
   "metadata": {},
   "outputs": [],
   "source": [
    "def vertexpath(G,S,T):\n",
    "    G.add_node('s')\n",
    "    G.add_node('t')\n",
    "    for u in S:\n",
    "        G.add_edge('s',u)\n",
    "    for u in T:\n",
    "        G.add_edge(u,'t')\n",
    "    path = nx. all_simple_paths(G, 's', 't')\n",
    "    P = []\n",
    "    for u in path:\n",
    "        P.append(u[1:-1])\n",
    "    m = len(G.nodes())\n",
    "    rows = []\n",
    "    for s in P:\n",
    "        row = (m-2)*[0]\n",
    "        for i in range(m-2):\n",
    "            if i in s:\n",
    "                row[i]=1        \n",
    "        rows.append(row)\n",
    "    return rows"
   ]
  },
  {
   "cell_type": "code",
   "execution_count": 4,
   "id": "adc3f089",
   "metadata": {},
   "outputs": [],
   "source": [
    "def dual(R,m):\n",
    "    # initialize an empty list of rows for the augmented matrix\n",
    "    rows = []\n",
    "    # add rows corresponding to the constraints rho >= 0\n",
    "    for i in range(1,m+1):\n",
    "        row = (m+1)*[0]\n",
    "        row[i] = 1\n",
    "        rows.append(row)   \n",
    "    # add rows corresponding to the constraints N*rho >= 1\n",
    "    for miss in R:\n",
    "        row = [-1] + miss\n",
    "        rows.append(row)   \n",
    "    # create the polyhedron in cdd\n",
    "    mat = cdd.Matrix(rows, number_type='fraction')\n",
    "    mat.rep_type = cdd.RepType.INEQUALITY\n",
    "    poly = cdd.Polyhedron(mat)\n",
    "    ext = poly.get_generators()\n",
    "    # list of dual objects\n",
    "    dual = []\n",
    "    # loop over extreme points and directions\n",
    "    for i in range(ext.row_size):\n",
    "    \n",
    "        # skip extreme directions\n",
    "        if ext[i][0] == 0:\n",
    "            continue\n",
    "        \n",
    "        # add the vector representation of the dual object\n",
    "        dual.append(ext[i][1:])\n",
    "    return dual"
   ]
  },
  {
   "cell_type": "code",
   "execution_count": null,
   "id": "b8194ffd",
   "metadata": {},
   "outputs": [],
   "source": [
    "import random as rnd\n",
    "seed= 123\n",
    "G = nx.gnp_random_graph(8, 0.1, seed, directed = True)\n",
    "m= len(G.nodes())\n",
    "pos = nx.spring_layout(G)\n",
    "labels = {u:(u)  for u in G.nodes}\n",
    "nx.draw(G, pos, node_size=200, node_color='gray', edge_color='gray')\n",
    "nx.draw_networkx_labels(G, pos,labels=labels, font_size=12)\n",
    "S= [0,1,2]\n",
    "T =[m-2,m-1,m-3]\n",
    "R = vertexpath(G,S,T)\n",
    "print(R)\n",
    "print('c')\n",
    "print(dual(R,m))"
   ]
  },
  {
   "cell_type": "code",
   "execution_count": null,
   "id": "59b54df8",
   "metadata": {},
   "outputs": [],
   "source": []
  }
 ],
 "metadata": {
  "kernelspec": {
   "display_name": "Python 3 (ipykernel)",
   "language": "python",
   "name": "python3"
  },
  "language_info": {
   "codemirror_mode": {
    "name": "ipython",
    "version": 3
   },
   "file_extension": ".py",
   "mimetype": "text/x-python",
   "name": "python",
   "nbconvert_exporter": "python",
   "pygments_lexer": "ipython3",
   "version": "3.9.12"
  }
 },
 "nbformat": 4,
 "nbformat_minor": 5
}
